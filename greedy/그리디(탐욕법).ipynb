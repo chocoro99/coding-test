{
 "cells": [
  {
   "cell_type": "markdown",
   "metadata": {},
   "source": [
    "어떠한 문제가 있을 때 단순 무식하게, 탐욕적으로 문제를 푸는 알고리즘이다. <br>\n",
    "탐욕적이라는 말은 '현재 상황에서 지금 당장 좋은 것만 고르는 방법'을 의미한다. <br>\n",
    "매 순간 가장 좋아 보이는 것을 선택하여, 나중에 미칠 영향에 대해서는 고려하지 않는다."
   ]
  },
  {
   "cell_type": "markdown",
   "metadata": {},
   "source": [
    "### 거스름돈 문제\n",
    "\n",
    "당신은 음식점의 계산을 도와주는 점원이다. <br>\n",
    "카운터에는 거스름돈으로 사용할 500원, 100원, 50원, 10원짜리 동전이 무한히 존재한다고 가정한다. <br>\n",
    "손님에게 거슬러 줘야 할 돈이 N원일 때 거슬러줘야 할 동전의 최소 개수를 구하자. "
   ]
  },
  {
   "cell_type": "code",
   "execution_count": 2,
   "metadata": {},
   "outputs": [
    {
     "name": "stdout",
     "output_type": "stream",
     "text": [
      "6\n"
     ]
    }
   ],
   "source": [
    "n = 1260\n",
    "count = 0\n",
    "while True:\n",
    "    if n//500 > 0 :\n",
    "        count += n//500\n",
    "        n = n%500\n",
    "    elif n//100 > 0 :\n",
    "        count += n//100\n",
    "        n = n%100\n",
    "    elif n//50 > 0 :\n",
    "        count += n//50\n",
    "        n = n%50\n",
    "    elif n//10 > 0 :\n",
    "        count += n//10\n",
    "        n = n%10\n",
    "        break\n",
    "print(count)"
   ]
  }
 ],
 "metadata": {
  "kernelspec": {
   "display_name": "Python 3.10.6 64-bit",
   "language": "python",
   "name": "python3"
  },
  "language_info": {
   "codemirror_mode": {
    "name": "ipython",
    "version": 3
   },
   "file_extension": ".py",
   "mimetype": "text/x-python",
   "name": "python",
   "nbconvert_exporter": "python",
   "pygments_lexer": "ipython3",
   "version": "3.10.6"
  },
  "orig_nbformat": 4,
  "vscode": {
   "interpreter": {
    "hash": "c3fab59af8123f9cfec183dc028d1fc14b465e0637f838ba64851bcf78e06788"
   }
  }
 },
 "nbformat": 4,
 "nbformat_minor": 2
}
