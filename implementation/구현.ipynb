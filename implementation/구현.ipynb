{
 "cells": [
  {
   "cell_type": "markdown",
   "metadata": {},
   "source": [
    "머릿속에 있는 알고리즘을 소스코드로 바꾸는 과정\n",
    "\n",
    "완전 탐색 : 모든 경우의 수를 주저 없이 다 계산하는 해결 방법<br>\n",
    "시뮬레이션 : 문제에서 제시한 알고리즘을 한 단계씩 차례대로 직접 수행"
   ]
  },
  {
   "cell_type": "markdown",
   "metadata": {},
   "source": [
    "### 상하좌우\n",
    "\n",
    "여행가 A는 N X N 크기의 정사각형 공간 위에 서 있다. 이 공간은 1 x 1 크기의 정사각형으로 나누어져 있다. 가장 왼쪽 위 좌표는 (1, 1) 이며, 가장 오른쪽 아래 좌표는 (N, N)에 해당한다. 여행가 A는 상, 하, 좌, 우 방향으로 이동할 수 있으며, 시작 좌표는 항상 (1, 1)이다. 우리 앞에는 여행가 A가 이동할 계획이 적힌 계획서가 놓여 있다.\n",
    "\n",
    "계획서에는 하나의 줄에 띄어쓰기를 기준으로 하여 L, R, U, D 중 하나의 문자가 반복적으로 적혀 있다. 각 문자의 의미는 다음과 같다.\n",
    "\n",
    "- L : 왼쪽으로 한 칸 이동\n",
    "- R : 오른쪽으로 한 칸 이동\n",
    "- U : 위로 한 칸 이동\n",
    "- D : 아래로 한 칸 이동\n",
    "\n",
    "이때 여행가 A가 N X M 크기의 정사각형 공간을 벗어나는 움직임은 무시된다. 예를 들어 (1, 1)의 위치에서 L 혹은 U를 만나면 무시된다. 다음은 N = 5인 지도와 계획서다.\n",
    "\n",
    "(1, 1) | (1, 2) | (1, 3) | (1, 4) | (1, 5)<br>\n",
    "(2, 1) | (2, 2) | (2, 3) | (2, 4) | (2, 5)<br>\n",
    "(3, 1) | (3, 2) | (3, 3) | (3, 4) | (3, 5)<br>\n",
    "(4, 1) | (4, 2) | (4, 3) | (4, 4) | (4, 5)<br>\n",
    "(5, 1) | (5, 2) | (5, 3) | (5, 4) | (5, 5)<br>\n",
    "\n",
    "계획서가 주어졌을 때 여행가 A가 최종적으로 도착할 지점의 좌표를 출력하는 프로그램을 작성하시오.\n",
    "\n",
    "입력 조건\n",
    "- 첫째 줄에 공간의 크기를 나타내는 N이 주어진다. (1 <= N <= 100)\n",
    "- 둘째 줄에 여행가 A가 이동할 계획서 내용이 주어진다. (1 <= 이동 횟수 <= 100)\n",
    "\n",
    "입력 예시<br>\n",
    "5<br>\n",
    "R R R U D D\n",
    "\n",
    "출력 조건\n",
    "- 첫째 줄에 여행가 A가 최종적으로 도착할 지점의 좌표(X, Y)를 공백으로 구분하여 출력한다.\n",
    "\n",
    "출력 예시<br>\n",
    "3 4\n"
   ]
  },
  {
   "cell_type": "code",
   "execution_count": 9,
   "metadata": {},
   "outputs": [
    {
     "name": "stdout",
     "output_type": "stream",
     "text": [
      "3 4\n"
     ]
    }
   ],
   "source": [
    "n = int(input())\n",
    "x,y = 1,1\n",
    "nav = input().split(\" \")\n",
    "\n",
    "for i in nav:\n",
    "    if i == 'R':\n",
    "        if y < n:\n",
    "            y+=1\n",
    "    elif i == 'L':\n",
    "        if y > 1:\n",
    "            y-=1\n",
    "    elif i == 'U':\n",
    "        if x > 1:\n",
    "            x-=1\n",
    "    elif i == 'D':\n",
    "        if x < n:\n",
    "            x+=1\n",
    "print(x,y, sep = \" \")"
   ]
  }
 ],
 "metadata": {
  "kernelspec": {
   "display_name": "Python 3.10.6 64-bit",
   "language": "python",
   "name": "python3"
  },
  "language_info": {
   "codemirror_mode": {
    "name": "ipython",
    "version": 3
   },
   "file_extension": ".py",
   "mimetype": "text/x-python",
   "name": "python",
   "nbconvert_exporter": "python",
   "pygments_lexer": "ipython3",
   "version": "3.10.6"
  },
  "orig_nbformat": 4,
  "vscode": {
   "interpreter": {
    "hash": "946b9015d7905d13f078291f672ed854d1996d9a856f4fd5182282812ab50286"
   }
  }
 },
 "nbformat": 4,
 "nbformat_minor": 2
}
