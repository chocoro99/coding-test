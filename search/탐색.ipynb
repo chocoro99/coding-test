{
 "cells": [
  {
   "cell_type": "markdown",
   "metadata": {},
   "source": [
    "탐색(Search) : 많은 양의 데이터 중에서 원하는 데이터를 찾는 과정\n",
    "- 대표적인 알고리즘 : DFS와 BFS\n",
    "- 기본 자료구조 : 스택과 큐\n",
    "\n",
    "자료구조(Data Structure) : 데이터를 표현하고 관리하고 처리하기 위한 구조\n",
    "- 삽입(Push) : 데이터를 삽입\n",
    "- 삭제(Pop) : 데이터를 삭제\n",
    "- 오버플로(Overflow) : 특정한 자료구조가 수용할 수 있는 데이터의 크기를 이미 가득 찬 상태에서 삽입 연산을 수행할 때 발생\n",
    "- 언더플로(Underflow) : 특정한 자료구조에 데이터가 전혀 들어 있지 않은 상태에서 삭제 연산을 수행할 때 발생"
   ]
  },
  {
   "cell_type": "markdown",
   "metadata": {},
   "source": [
    "### 스택(Stack)\n",
    "박스 쌓기에 비유. 아래에서부터 위로 차곡차곡 쌓는다. 아래에 있는 박스를 치우기 위해서는 위에 있는 박스를 먼저 내려야 한다.<br>\n",
    "이러한 구조를 선입후출(First In Last Out) 구조 또는 후입선출(Last In First Out) 구조 라고 한다."
   ]
  },
  {
   "cell_type": "code",
   "execution_count": null,
   "metadata": {},
   "outputs": [],
   "source": [
    "stack = []\n",
    "\n",
    "# 삽입(5) - 삽입(2) - 삽입(3) - 삽입(7) - 삭제() - 삽입(1) - 삽입(4) - 삭제()\n",
    "\n",
    "print(stack) # [5, 2, 3, 1]"
   ]
  }
 ],
 "metadata": {
  "language_info": {
   "name": "python"
  },
  "orig_nbformat": 4
 },
 "nbformat": 4,
 "nbformat_minor": 2
}
