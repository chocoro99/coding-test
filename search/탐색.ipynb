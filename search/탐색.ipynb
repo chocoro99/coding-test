{
 "cells": [
  {
   "cell_type": "markdown",
   "metadata": {},
   "source": [
    "탐색(Search) : 많은 양의 데이터 중에서 원하는 데이터를 찾는 과정\n",
    "- 대표적인 알고리즘 : DFS와 BFS\n",
    "- 기본 자료구조 : 스택과 큐\n",
    "\n",
    "자료구조(Data Structure) : 데이터를 표현하고 관리하고 처리하기 위한 구조\n",
    "- 삽입(Push) : 데이터를 삽입\n",
    "- 삭제(Pop) : 데이터를 삭제\n",
    "- 오버플로(Overflow) : 특정한 자료구조가 수용할 수 있는 데이터의 크기를 이미 가득 찬 상태에서 삽입 연산을 수행할 때 발생\n",
    "- 언더플로(Underflow) : 특정한 자료구조에 데이터가 전혀 들어 있지 않은 상태에서 삭제 연산을 수행할 때 발생"
   ]
  },
  {
   "cell_type": "markdown",
   "metadata": {},
   "source": [
    "### 스택(Stack)\n",
    "박스 쌓기에 비유. 아래에서부터 위로 차곡차곡 쌓는다. 아래에 있는 박스를 치우기 위해서는 위에 있는 박스를 먼저 내려야 한다.<br>\n",
    "이러한 구조를 선입후출(First In Last Out) 구조 또는 후입선출(Last In First Out) 구조 라고 한다."
   ]
  },
  {
   "cell_type": "code",
   "execution_count": 2,
   "metadata": {},
   "outputs": [
    {
     "name": "stdout",
     "output_type": "stream",
     "text": [
      "[5, 2, 3, 1]\n",
      "[1, 3, 2, 5]\n"
     ]
    }
   ],
   "source": [
    "stack = []\n",
    "\n",
    "# 삽입(5) - 삽입(2) - 삽입(3) - 삽입(7) - 삭제() - 삽입(1) - 삽입(4) - 삭제()\n",
    "## 코드 작성! - 추가 : append, 삭제 : pop\n",
    "\n",
    "stack.append(5)\n",
    "stack.append(2)\n",
    "stack.append(3)\n",
    "stack.append(7)\n",
    "stack.pop()\n",
    "stack.append(1)\n",
    "stack.append(4)\n",
    "stack.pop()\n",
    "\n",
    "print(stack) # [5, 2, 3, 1]\n",
    "print(stack[::-1])# [1, 3, 2, 5]\n"
   ]
  },
  {
   "cell_type": "markdown",
   "metadata": {},
   "source": [
    "### 큐(Queue)\n",
    "대기 줄에 비유. 흔히 놀이공원에 입장하기 위해 줄을 설 때, 먼저 온 사람이 먼저 들어간다. 나중에 온 사람일수록 나중에 들어가기 때문에 '공정한' 자료구조라고 비유된다. 이러한 구조를 선입선출(First In First Out) 구조라고 한다.\n",
    "\n",
    "큐를 구현할 때는 collections 모듈에서 제공하는 deque 자료구조를 활용한다. 데이터를 넣고 빼는 속도는 리스트 자료형에 비해 효율적이고 간단해진다. "
   ]
  },
  {
   "cell_type": "code",
   "execution_count": 2,
   "metadata": {},
   "outputs": [
    {
     "name": "stdout",
     "output_type": "stream",
     "text": [
      "deque([3, 7, 1, 4])\n",
      "deque([4, 1, 7, 3])\n"
     ]
    }
   ],
   "source": [
    "from collections import deque \n",
    "\n",
    "# deque 라이브러리 사용\n",
    "queue = deque()\n",
    "\n",
    "# 삽입(5) - 삽입(2) - 삽입(3) - 삽입(7) - 삭제() - 삽입(1) - 삽입(4) - 삭제()\n",
    "# 코드 작성! - 추가 : append, 삭제 : popleft()\n",
    "queue.append(5)\n",
    "queue.append(2)\n",
    "queue.append(3)\n",
    "queue.append(7)\n",
    "queue.popleft()\n",
    "queue.append(1)\n",
    "queue.append(4)\n",
    "queue.popleft()\n",
    "print(queue) # 먼저 들어간 순서대로 출력\n",
    "# 역순으로 바꿔보기\n",
    "queue.reverse()\n",
    "print(queue) # 나중에 들어온 순서대로 출력"
   ]
  }
 ],
 "metadata": {
  "kernelspec": {
   "display_name": "Python 3.10.6 64-bit",
   "language": "python",
   "name": "python3"
  },
  "language_info": {
   "codemirror_mode": {
    "name": "ipython",
    "version": 3
   },
   "file_extension": ".py",
   "mimetype": "text/x-python",
   "name": "python",
   "nbconvert_exporter": "python",
   "pygments_lexer": "ipython3",
   "version": "3.10.6"
  },
  "orig_nbformat": 4,
  "vscode": {
   "interpreter": {
    "hash": "c3fab59af8123f9cfec183dc028d1fc14b465e0637f838ba64851bcf78e06788"
   }
  }
 },
 "nbformat": 4,
 "nbformat_minor": 2
}
